{
 "cells": [
  {
   "cell_type": "markdown",
   "metadata": {},
   "source": [
    "# Spark\n",
    "\n",
    "- MapReduce, Hadoop and Spark.\n",
    "- Data lake: Hive, Pigs, YARN.\n",
    "- Setup a Spark cluster in AWS.\n",
    "- ML with PySpark\n",
    "\n",
    "https://aws.amazon.com/emr/\n",
    "https://docs.aws.amazon.com/emr/latest/ReleaseGuide/emr-spark-launch.html\n",
    "https://github.com/amplab/spark-ec2\n",
    "\n",
    "https://blog.sicara.com/get-started-pyspark-jupyter-guide-tutorial-ae2fe84f594f\n",
    "https://datawookie.netlify.com/blog/2017/07/accessing-pyspark-from-a-jupyter-notebook/\n",
    "\n",
    "https://spark.apache.org/docs/latest/api/python/index.html'\n",
    "\n",
    "https://github.com/jadianes/spark-py-notebooks/blob/master/nb9-mllib-trees/nb9-mllib-trees.ipynb\n",
    "\n",
    "https://spark.apache.org/docs/latest/running-on-kubernetes.html\n",
    "\n",
    "https://mapr.com/blog/configure-jupyter-spark-python/\n",
    "\n",
    "https://docs.aws.amazon.com/emr/latest/ReleaseGuide/emr-spark-launch.html\n",
    "\n",
    "pyspark\n",
    "https://spark.apache.org/docs/2.2.0/ml-statistics.html"
   ]
  },
  {
   "cell_type": "markdown",
   "metadata": {},
   "source": [
    "Install Spark either as stand alone or inside your environment using pip (more experimental!)\n",
    "- https://spark.apache.org/docs/latest/index.html\n",
    "- http://spark.apache.org/downloads.html\n",
    "\n",
    "```\n",
    "$ pip install pyspark\n",
    "```"
   ]
  },
  {
   "cell_type": "code",
   "execution_count": null,
   "metadata": {},
   "outputs": [],
   "source": []
  }
 ],
 "metadata": {
  "kernelspec": {
   "display_name": "Python 3",
   "language": "python",
   "name": "python3"
  },
  "language_info": {
   "codemirror_mode": {
    "name": "ipython",
    "version": 3
   },
   "file_extension": ".py",
   "mimetype": "text/x-python",
   "name": "python",
   "nbconvert_exporter": "python",
   "pygments_lexer": "ipython3",
   "version": "3.6.5"
  }
 },
 "nbformat": 4,
 "nbformat_minor": 2
}
